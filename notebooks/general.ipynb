{
 "cells": [
  {
   "cell_type": "markdown",
   "id": "68e79919",
   "metadata": {},
   "source": [
    "# General"
   ]
  },
  {
   "cell_type": "code",
   "execution_count": 18,
   "id": "21916b18",
   "metadata": {},
   "outputs": [],
   "source": [
    "pub struct Solution {\n",
    "    \n",
    "}\n",
    "\n",
    "impl Solution {\n",
    "    pub fn say_hello() -> () {\n",
    "        println!(\"Hello World!\");\n",
    "    }\n",
    "}"
   ]
  },
  {
   "cell_type": "code",
   "execution_count": 19,
   "id": "49aba1f7",
   "metadata": {},
   "outputs": [
    {
     "name": "stdout",
     "output_type": "stream",
     "text": [
      "Hello World!\n"
     ]
    }
   ],
   "source": [
    "Solution::say_hello();"
   ]
  },
  {
   "cell_type": "markdown",
   "id": "41aaefc3",
   "metadata": {},
   "source": [
    "Given an integer array nums sorted in non-decreasing order, remove some duplicates in-place such that each unique element appears at most twice. The relative order of the elements should be kept the same.\n",
    "Since it is impossible to change the length of the array in some languages, you must instead have the result be placed in the first part of the array nums. More formally, if there are k elements after removing the duplicates, then the first k elements of nums should hold the final result. It does not matter what you leave beyond the first k elements.\n",
    "Return k after placing the final result in the first k slots of nums.\n",
    "Do not allocate extra space for another array. You must do this by modifying the input array in-place with O(1) extra memory.\n",
    "\n",
    "\n",
    "Custom Judge:\n",
    "The judge will test your solution with the following code:\n",
    "```\n",
    "int[] nums = [...]; // Input array\n",
    "int[] expectedNums = [...]; // The expected answer with correct length\n",
    "\n",
    "int k = removeDuplicates(nums); // Calls your implementation\n",
    "\n",
    "assert k == expectedNums.length;\n",
    "for (int i = 0; i < k; i++) {\n",
    "    assert nums[i] == expectedNums[i];\n",
    "}\n",
    "\n",
    "```\n",
    "\n",
    "If all assertions pass, then your solution will be accepted.\n",
    "\n",
    "``` \n",
    "Example 1:\n",
    "Input: nums = [1,1,1,2,2,3]\n",
    "Output: 5, nums = [1,1,2,2,3,_]\n",
    "Explanation: Your function should return k = 5, with the first five elements of nums being 1, 1, 2, 2 and 3 respectively.\n",
    "It does not matter what you leave beyond the returned k (hence they are underscores).\n",
    "Example 2:\n",
    "Input: nums = [0,0,1,1,1,1,2,3,3]\n",
    "Output: 7, nums = [0,0,1,1,2,3,3,_,_]\n",
    "Explanation: Your function should return k = 7, with the first seven elements of nums being 0, 0, 1, 1, 2, 3 and 3 respectively.\n",
    "It does not matter what you leave beyond the returned k (hence they are underscores).\n",
    "```"
   ]
  },
  {
   "cell_type": "code",
   "execution_count": 71,
   "id": "f7546aa6",
   "metadata": {},
   "outputs": [],
   "source": [
    "pub struct Solution {\n",
    "    \n",
    "}\n",
    "\n",
    "impl Solution {\n",
    "    pub fn remove_duplicates(self, nums: &mut Vec<i32>) -> i32 {\n",
    "        if nums.len() == 0 {\n",
    "            return 0;\n",
    "        }\n",
    "        // Assumes nums is sorted in increasing order\n",
    "        let mut idx_last_unique = 0;\n",
    "        let mut idx_curr = 1;\n",
    "        \n",
    "        while idx_curr < nums.len() {\n",
    "            if (nums[idx_last_unique] == nums[idx_curr]) {\n",
    "                idx_curr += 1;\n",
    "            } else {\n",
    "                idx_last_unique += 1;\n",
    "                nums[idx_last_unique] = nums[idx_curr];\n",
    "                idx_curr += 1;\n",
    "            }\n",
    "        }\n",
    "        return idx_last_unique as i32;\n",
    "    }\n",
    "}"
   ]
  },
  {
   "cell_type": "code",
   "execution_count": 72,
   "id": "bd1ae675",
   "metadata": {},
   "outputs": [
    {
     "name": "stdout",
     "output_type": "stream",
     "text": [
      "Last unique value of nums is at index 8\n"
     ]
    },
    {
     "data": {
      "text/plain": [
       "[1, 2, 3, 4, 5, 6, 7, 8, 9, 9]"
      ]
     },
     "execution_count": 72,
     "metadata": {},
     "output_type": "execute_result"
    }
   ],
   "source": [
    "let s = Solution{};\n",
    "let mut nums: Vec<i32> = vec![1,2,3,3,4,5,6,7,8,9];\n",
    "// mutably borrow: https://stackoverflow.com/questions/60324626/how-borrow-as-mutable-vs-immutable-in-rust\n",
    "// immutable reference: &<var>\n",
    "// mutable reference: &mut <var>\n",
    "// can only create a single mutable reference at a time\n",
    "// can create any number of immutable references\n",
    "let result = s.remove_duplicates(&mut nums);\n",
    "println!(\"Last unique value of nums is at index {}\", result);\n",
    "nums"
   ]
  },
  {
   "cell_type": "code",
   "execution_count": null,
   "id": "4c2e9959",
   "metadata": {},
   "outputs": [],
   "source": []
  },
  {
   "cell_type": "markdown",
   "id": "dbf2590e",
   "metadata": {},
   "source": [
    "### Operators"
   ]
  },
  {
   "cell_type": "code",
   "execution_count": 57,
   "id": "cd2941ab",
   "metadata": {},
   "outputs": [
    {
     "data": {
      "text/plain": [
       "4"
      ]
     },
     "execution_count": 57,
     "metadata": {},
     "output_type": "execute_result"
    }
   ],
   "source": [
    "let mut v = 3;\n",
    "v += 1;\n",
    "v"
   ]
  }
 ],
 "metadata": {
  "kernelspec": {
   "display_name": "Rust",
   "language": "rust",
   "name": "rust"
  },
  "language_info": {
   "codemirror_mode": "rust",
   "file_extension": ".rs",
   "mimetype": "text/rust",
   "name": "Rust",
   "pygment_lexer": "rust",
   "version": ""
  }
 },
 "nbformat": 4,
 "nbformat_minor": 5
}
